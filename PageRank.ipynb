{
 "cells": [
  {
   "cell_type": "code",
   "execution_count": 10,
   "metadata": {
    "scrolled": true
   },
   "outputs": [],
   "source": [
    "using Distributions, Statistics, StatsPlots, Plots, LinearAlgebra"
   ]
  },
  {
   "cell_type": "code",
   "execution_count": 43,
   "metadata": {},
   "outputs": [
    {
     "data": {
      "text/plain": [
       "5×5 Array{Float64,2}:\n",
       " 0.0  0.0  0.0  0.0  0.5\n",
       " 0.5  0.0  0.5  1.0  0.0\n",
       " 0.0  0.0  0.0  0.0  0.0\n",
       " 0.0  0.5  0.5  0.0  0.5\n",
       " 0.5  0.5  0.0  0.0  0.0"
      ]
     },
     "execution_count": 43,
     "metadata": {},
     "output_type": "execute_result"
    }
   ],
   "source": [
    "S = [1,2, 3, 4, 5,]\n",
    "E = [0.2, 0.2, 0.2, 0.2, 0.2]\n",
    "A = [0. 0. 0. 0. 0.5; 0.5 0. 0.5 1. 0.; 0. 0. 0. 0. 0.; 0. 0.5 0.5 0. 0.5; 0.5 0.5 0 0 0]"
   ]
  },
  {
   "cell_type": "code",
   "execution_count": 44,
   "metadata": {},
   "outputs": [
    {
     "name": "stdout",
     "output_type": "stream",
     "text": [
      "[2.5, 6.0, 0.0, 5.0, 1.5]\n",
      "[0.75, 6.25, 0.0, 3.75, 4.25]\n",
      "[2.125, 4.125, 0.0, 5.25, 3.5]\n",
      "[1.75, 6.3125, 0.0, 3.8125, 3.125]\n",
      "[1.5625, 4.6875, 0.0, 4.71875, 4.03125]\n",
      "[2.015625, 5.5, 0.0, 4.359375, 3.125]\n",
      "[1.5625, 5.3671875, 0.0, 4.3125, 3.7578125]\n",
      "[1.87890625, 5.09375, 0.0, 4.5625, 3.46484375]\n",
      "[1.732421875, 5.501953125, 0.0, 4.279296875, 3.486328125]\n",
      "[1.7431640625, 5.1455078125, 0.0, 4.494140625, 3.6171875]\n",
      "[1.80859375, 5.36572265625, 0.0, 4.38134765625, 3.4443359375]\n",
      "[1.72216796875, 5.28564453125, 0.0, 4.405029296875, 3.587158203125]\n",
      "[1.7935791015625, 5.26611328125, 0.0, 4.4364013671875, 3.50390625]\n",
      "[1.751953125, 5.33319091796875, 0.0, 4.385009765625, 3.52984619140625]\n",
      "[1.764923095703125, 5.260986328125, 0.0, 4.4315185546875, 3.542572021484375]\n",
      "[1.7712860107421875, 5.3139801025390625, 0.0, 4.4017791748046875, 3.5129547119140625]\n",
      "[1.7564773559570312, 5.287422180175781, 0.0, 4.4134674072265625, 3.542633056640625]\n",
      "[1.7713165283203125, 5.291706085205078, 0.0, 4.415027618408203, 3.5219497680664062]\n",
      "[1.7609748840332031, 5.300685882568359, 0.0, 4.406827926635742, 3.5315113067626953]\n",
      "[1.7657556533813477, 5.287315368652344, 0.0, 4.416098594665527, 3.5308303833007812]\n",
      "[1.7654151916503906, 5.298976421356201, 0.0, 4.4090728759765625, 3.5265355110168457]\n",
      "[1.7632677555084229, 5.291780471801758, 0.0, 4.412755966186523, 3.532195806503296]\n",
      "[1.766097903251648, 5.294389843940735, 0.0, 4.411988139152527, 3.5275241136550903]\n",
      "[1.7637620568275452, 5.295037090778351, 0.0, 4.410956978797913, 3.5302438735961914]\n"
     ]
    },
    {
     "data": {
      "text/plain": [
       "5-element Array{Float64,1}:\n",
       " 1.7637620568275452\n",
       " 5.295037090778351 \n",
       " 0.0               \n",
       " 4.410956978797913 \n",
       " 3.5302438735961914"
      ]
     },
     "execution_count": 44,
     "metadata": {},
     "output_type": "execute_result"
    }
   ],
   "source": [
    "function ite(S, A, E, tol=0.01)\n",
    "    R = S\n",
    "    \n",
    "    δ = tol+1\n",
    "    \n",
    "    while δ > tol\n",
    "        R_1 = A*R\n",
    "        d = norm(R_1,1)-norm(R,1)\n",
    "        R_1 = R_1 + d*E\n",
    "        δ= norm(R_1-R, 1)\n",
    "        R = R_1\n",
    "        println(R)\n",
    "    end\n",
    "    return R\n",
    "end\n",
    "\n",
    "S1 = S*100\n",
    "ite(S,A, E)"
   ]
  },
  {
   "cell_type": "code",
   "execution_count": 46,
   "metadata": {},
   "outputs": [
    {
     "name": "stdout",
     "output_type": "stream",
     "text": [
      "[2.5, 6.0, 0.0, 5.0, 1.5]\n",
      "[0.75, 6.25, 0.0, 3.75, 4.25]\n",
      "[2.125, 4.125, 0.0, 5.25, 3.5]\n",
      "[1.75, 6.3125, 0.0, 3.8125, 3.125]\n",
      "[1.5625, 4.6875, 0.0, 4.71875, 4.03125]\n",
      "[2.015625, 5.5, 0.0, 4.359375, 3.125]\n",
      "[1.5625, 5.3671875, 0.0, 4.3125, 3.7578125]\n",
      "[1.87890625, 5.09375, 0.0, 4.5625, 3.46484375]\n",
      "[1.732421875, 5.501953125, 0.0, 4.279296875, 3.486328125]\n",
      "[1.7431640625, 5.1455078125, 0.0, 4.494140625, 3.6171875]\n",
      "[1.80859375, 5.36572265625, 0.0, 4.38134765625, 3.4443359375]\n",
      "[1.72216796875, 5.28564453125, 0.0, 4.405029296875, 3.587158203125]\n",
      "[1.7935791015625, 5.26611328125, 0.0, 4.4364013671875, 3.50390625]\n",
      "[1.751953125, 5.33319091796875, 0.0, 4.385009765625, 3.52984619140625]\n",
      "[1.764923095703125, 5.260986328125, 0.0, 4.4315185546875, 3.542572021484375]\n",
      "[1.7712860107421875, 5.3139801025390625, 0.0, 4.4017791748046875, 3.5129547119140625]\n",
      "[1.7564773559570312, 5.287422180175781, 0.0, 4.4134674072265625, 3.542633056640625]\n",
      "[1.7713165283203125, 5.291706085205078, 0.0, 4.415027618408203, 3.5219497680664062]\n",
      "[1.7609748840332031, 5.300685882568359, 0.0, 4.406827926635742, 3.5315113067626953]\n",
      "[1.7657556533813477, 5.287315368652344, 0.0, 4.416098594665527, 3.5308303833007812]\n",
      "[1.7654151916503906, 5.298976421356201, 0.0, 4.4090728759765625, 3.5265355110168457]\n",
      "[1.7632677555084229, 5.291780471801758, 0.0, 4.412755966186523, 3.532195806503296]\n",
      "[1.766097903251648, 5.294389843940735, 0.0, 4.411988139152527, 3.5275241136550903]\n",
      "[1.7637620568275452, 5.295037090778351, 0.0, 4.410956978797913, 3.5302438735961914]\n"
     ]
    },
    {
     "data": {
      "text/plain": [
       "5-element Array{Float64,1}:\n",
       " 1.7637620568275452\n",
       " 5.295037090778351 \n",
       " 0.0               \n",
       " 4.410956978797913 \n",
       " 3.5302438735961914"
      ]
     },
     "execution_count": 46,
     "metadata": {},
     "output_type": "execute_result"
    }
   ],
   "source": [
    "E1 = [0., 0., 0., 100000000, 0.]\n",
    "ite(S,A,E1,0.01)"
   ]
  },
  {
   "cell_type": "code",
   "execution_count": 12,
   "metadata": {},
   "outputs": [
    {
     "data": {
      "text/plain": [
       "1"
      ]
     },
     "execution_count": 12,
     "metadata": {},
     "output_type": "execute_result"
    }
   ],
   "source": [
    "abs(1)"
   ]
  },
  {
   "cell_type": "code",
   "execution_count": 66,
   "metadata": {},
   "outputs": [
    {
     "data": {
      "text/plain": [
       "4×4 Array{Float64,2}:\n",
       " 0.0  0.5  0.33  0.0\n",
       " 0.0  0.0  0.33  1.0\n",
       " 1.0  0.0  0.0   0.0\n",
       " 0.0  0.5  0.33  0.0"
      ]
     },
     "execution_count": 66,
     "metadata": {},
     "output_type": "execute_result"
    }
   ],
   "source": [
    "W = [0 0.5 0.33 0; 0 0 0.33 1; 1 0 0 0; 0 0.5 0.33 0]"
   ]
  },
  {
   "cell_type": "code",
   "execution_count": 67,
   "metadata": {},
   "outputs": [
    {
     "data": {
      "text/plain": [
       "4-element Array{Int64,1}:\n",
       " 1\n",
       " 0\n",
       " 0\n",
       " 0"
      ]
     },
     "execution_count": 67,
     "metadata": {},
     "output_type": "execute_result"
    }
   ],
   "source": [
    "e0 = [1,0,0,0]"
   ]
  },
  {
   "cell_type": "code",
   "execution_count": 68,
   "metadata": {},
   "outputs": [
    {
     "data": {
      "text/plain": [
       "4-element Array{Float64,1}:\n",
       " 0.0\n",
       " 0.0\n",
       " 1.0\n",
       " 0.0"
      ]
     },
     "execution_count": 68,
     "metadata": {},
     "output_type": "execute_result"
    }
   ],
   "source": [
    "r_i=W*e0"
   ]
  },
  {
   "cell_type": "code",
   "execution_count": 87,
   "metadata": {},
   "outputs": [
    {
     "data": {
      "text/plain": [
       "4-element Array{Float64,1}:\n",
       " 0.21861430031479906\n",
       " 0.2941996817854518 \n",
       " 0.2219737814184558 \n",
       " 0.21861430031479906"
      ]
     },
     "execution_count": 87,
     "metadata": {},
     "output_type": "execute_result"
    }
   ],
   "source": [
    "r_i= W*r_i"
   ]
  },
  {
   "cell_type": "code",
   "execution_count": 90,
   "metadata": {},
   "outputs": [
    {
     "data": {
      "text/plain": [
       "4-element Array{Float64,1}:\n",
       " 0.09999999999999998\n",
       " 0.0                \n",
       " 0.9                \n",
       " 0.0                "
      ]
     },
     "execution_count": 90,
     "metadata": {},
     "output_type": "execute_result"
    }
   ],
   "source": [
    "c = 0.9\n",
    "\n",
    "rwri = c*W*e0 + (1-c)*e0"
   ]
  },
  {
   "cell_type": "code",
   "execution_count": 104,
   "metadata": {},
   "outputs": [
    {
     "data": {
      "text/plain": [
       "4-element Array{Float64,1}:\n",
       " 0.2871634710906594 \n",
       " 0.2465652873209464 \n",
       " 0.25991389174796015\n",
       " 0.1871634710906594 "
      ]
     },
     "execution_count": 104,
     "metadata": {},
     "output_type": "execute_result"
    }
   ],
   "source": [
    "rwri = c*W*rwri + (1-c)*e0"
   ]
  },
  {
   "cell_type": "code",
   "execution_count": null,
   "metadata": {},
   "outputs": [],
   "source": [
    "###The system matrix = I-cW"
   ]
  },
  {
   "cell_type": "code",
   "execution_count": 116,
   "metadata": {},
   "outputs": [
    {
     "data": {
      "text/plain": [
       "4-element Array{Float64,1}:\n",
       " 0.2868644987103152 \n",
       " 0.24485692934455094\n",
       " 0.25817804883928364\n",
       " 0.18686449871031516"
      ]
     },
     "execution_count": 116,
     "metadata": {},
     "output_type": "execute_result"
    }
   ],
   "source": [
    "Q = I(4)-c*W\n",
    "\n",
    "Q_i = inv(Q)\n",
    "\n",
    "r_system = (1-c)*Q_i*e0"
   ]
  },
  {
   "cell_type": "code",
   "execution_count": 130,
   "metadata": {},
   "outputs": [
    {
     "data": {
      "text/plain": [
       "4×4 Array{Int64,2}:\n",
       "   0  100  150   0\n",
       "   0    0  150  40\n",
       " 200    0    0   0\n",
       "   0  100  150   0"
      ]
     },
     "execution_count": 130,
     "metadata": {},
     "output_type": "execute_result"
    }
   ],
   "source": [
    "W_0 = [0 100 150 0; 0 0 150 40; 200 0 0 0; 0 100 150 0]\n",
    "\n",
    "D = Diagonal([250, 190, 200, 250])\n",
    "\n",
    "D_1_2 = D^(-1/2)\n",
    "\n",
    "W_0"
   ]
  },
  {
   "cell_type": "code",
   "execution_count": 129,
   "metadata": {},
   "outputs": [
    {
     "data": {
      "text/plain": [
       "4×4 Array{Float64,2}:\n",
       " 0.0       0.458831  0.67082   0.0     \n",
       " 0.0       0.0       0.769484  0.183533\n",
       " 0.894427  0.0       0.0       0.0     \n",
       " 0.0       0.458831  0.67082   0.0     "
      ]
     },
     "execution_count": 129,
     "metadata": {},
     "output_type": "execute_result"
    }
   ],
   "source": [
    "L = D_1_2*W_0*D_1_2"
   ]
  },
  {
   "cell_type": "code",
   "execution_count": 181,
   "metadata": {},
   "outputs": [
    {
     "data": {
      "text/plain": [
       "Eigen{Float64,Float64,Array{Float64,2},Array{Float64,1}}\n",
       "eigenvalues:\n",
       "3-element Array{Float64,1}:\n",
       " -6.098706201013971 \n",
       " -1.5445925897776727\n",
       "  7.643298790791668 \n",
       "eigenvectors:\n",
       "3×3 Array{Float64,2}:\n",
       " -0.138138   0.896297  -0.421391\n",
       " -0.671202  -0.397585  -0.625631\n",
       "  0.72829   -0.196414  -0.656518"
      ]
     },
     "execution_count": 181,
     "metadata": {},
     "output_type": "execute_result"
    }
   ],
   "source": [
    "a = [0 2 3; 2 0 6; 3 6 0]\n",
    "ei = eigen(a)"
   ]
  },
  {
   "cell_type": "code",
   "execution_count": 182,
   "metadata": {},
   "outputs": [
    {
     "data": {
      "text/plain": [
       "3×3 Array{Float64,2}:\n",
       " -0.138138   0.896297  -0.421391\n",
       " -0.671202  -0.397585  -0.625631\n",
       "  0.72829   -0.196414  -0.656518"
      ]
     },
     "execution_count": 182,
     "metadata": {},
     "output_type": "execute_result"
    }
   ],
   "source": [
    "e_val = ei.values\n",
    "e_vec = ei.vectors"
   ]
  },
  {
   "cell_type": "code",
   "execution_count": 183,
   "metadata": {},
   "outputs": [
    {
     "data": {
      "text/plain": [
       "3×3 Array{Float64,2}:\n",
       "  0.842466  -1.38441   -3.22082\n",
       "  4.09346    0.614107  -4.78189\n",
       " -4.44163    0.30338   -5.01796"
      ]
     },
     "execution_count": 183,
     "metadata": {},
     "output_type": "execute_result"
    }
   ],
   "source": [
    "e_vec*Diagonal(e_val)"
   ]
  },
  {
   "cell_type": "code",
   "execution_count": 184,
   "metadata": {},
   "outputs": [
    {
     "data": {
      "text/plain": [
       "3×3 Array{Float64,2}:\n",
       " 4.66294e-15  2.0          3.0        \n",
       " 2.0          6.66134e-15  6.0        \n",
       " 3.0          6.0          1.28786e-14"
      ]
     },
     "execution_count": 184,
     "metadata": {},
     "output_type": "execute_result"
    }
   ],
   "source": [
    "e_vec*Diagonal(e_val)*e_vec'"
   ]
  },
  {
   "cell_type": "code",
   "execution_count": 185,
   "metadata": {},
   "outputs": [
    {
     "data": {
      "text/plain": [
       "3-element Array{Float64,1}:\n",
       "  0.8424660620245374\n",
       "  4.09346189810942  \n",
       " -4.441625597610582 "
      ]
     },
     "execution_count": 185,
     "metadata": {},
     "output_type": "execute_result"
    }
   ],
   "source": [
    "e_val[1]*e_vec[:,1]"
   ]
  },
  {
   "cell_type": "code",
   "execution_count": 186,
   "metadata": {},
   "outputs": [
    {
     "data": {
      "text/plain": [
       "3-element Array{Float64,1}:\n",
       "  0.8424660620245434\n",
       "  4.093461898109433 \n",
       " -4.441625597610598 "
      ]
     },
     "execution_count": 186,
     "metadata": {},
     "output_type": "execute_result"
    }
   ],
   "source": [
    "a*e_vec[:,1]"
   ]
  },
  {
   "cell_type": "code",
   "execution_count": 187,
   "metadata": {},
   "outputs": [
    {
     "data": {
      "text/plain": [
       "3×3 Array{Float64,2}:\n",
       " -0.939877      8.42913e-17   0.0    \n",
       "  8.42913e-17  -0.646237     -0.0    \n",
       " -6.78314e-17   1.16598e-17  -1.30011"
      ]
     },
     "execution_count": 187,
     "metadata": {},
     "output_type": "execute_result"
    }
   ],
   "source": [
    "c = 0.9\n",
    "inv(inv(Diagonal(e_val))-c*e_vec'*e_vec)"
   ]
  },
  {
   "cell_type": "code",
   "execution_count": 191,
   "metadata": {},
   "outputs": [
    {
     "data": {
      "text/plain": [
       "(-0.9398768276628553, -0.6462369985279207)"
      ]
     },
     "execution_count": 191,
     "metadata": {},
     "output_type": "execute_result"
    }
   ],
   "source": [
    "x = zeros(3,3)\n",
    "for i=1:3\n",
    "     x+=(e_val[i]/(1-c*e_val[i]))*e_vec[:,i]*e_vec[:,i]'\n",
    "end\n",
    "\n",
    "e_val[1]/(1-c*e_val[1]),e_val[2]/(1-c*e_val[2])"
   ]
  },
  {
   "cell_type": "code",
   "execution_count": 166,
   "metadata": {},
   "outputs": [
    {
     "data": {
      "text/plain": [
       "3×3 Array{Float64,2}:\n",
       "  0.00995287   0.0788403  -0.060316\n",
       "  0.0788403    0.624522   -0.477785\n",
       " -0.060316    -0.477785    0.365525"
      ]
     },
     "execution_count": 166,
     "metadata": {},
     "output_type": "execute_result"
    }
   ],
   "source": [
    "e_vec[:,1]*e_vec[:,1]'"
   ]
  },
  {
   "cell_type": "code",
   "execution_count": 175,
   "metadata": {},
   "outputs": [
    {
     "data": {
      "text/plain": [
       "3×3 Diagonal{Float64,Array{Float64,1}}:\n",
       " 1.63927    ⋅         ⋅     \n",
       "  ⋅       -2.71678    ⋅     \n",
       "  ⋅         ⋅       -1.20361"
      ]
     },
     "execution_count": 175,
     "metadata": {},
     "output_type": "execute_result"
    }
   ],
   "source": [
    "inv(inv(Diagonal(e_val))-c*I(3))"
   ]
  },
  {
   "cell_type": "code",
   "execution_count": 169,
   "metadata": {},
   "outputs": [
    {
     "data": {
      "text/plain": [
       "1.510026885778542"
      ]
     },
     "execution_count": 169,
     "metadata": {},
     "output_type": "execute_result"
    }
   ],
   "source": [
    "1/e_val[1]"
   ]
  },
  {
   "cell_type": "code",
   "execution_count": 171,
   "metadata": {},
   "outputs": [
    {
     "data": {
      "text/plain": [
       "3×3 Array{Float64,2}:\n",
       "  1.0          -2.77556e-17  2.77556e-17\n",
       " -2.77556e-17   1.0          5.55112e-17\n",
       "  2.77556e-17   5.55112e-17  1.0        "
      ]
     },
     "execution_count": 171,
     "metadata": {},
     "output_type": "execute_result"
    }
   ],
   "source": [
    "e_vec*e_vec'"
   ]
  },
  {
   "cell_type": "code",
   "execution_count": 172,
   "metadata": {},
   "outputs": [
    {
     "data": {
      "text/plain": [
       "3×3 Array{Float64,2}:\n",
       " 1.0          4.16334e-17  5.55112e-17\n",
       " 4.16334e-17  1.0          0.0        \n",
       " 5.55112e-17  0.0          1.0        "
      ]
     },
     "execution_count": 172,
     "metadata": {},
     "output_type": "execute_result"
    }
   ],
   "source": [
    "e_vec'*e_vec"
   ]
  },
  {
   "cell_type": "code",
   "execution_count": 204,
   "metadata": {},
   "outputs": [
    {
     "data": {
      "text/plain": [
       "2×2 Array{Int64,2}:\n",
       " 1  0\n",
       " 0  8"
      ]
     },
     "execution_count": 204,
     "metadata": {},
     "output_type": "execute_result"
    }
   ],
   "source": [
    "## USU'\n",
    "\n",
    "U = [4 3; 3 4]\n",
    "S = [1 0; 0 8]\n",
    "\n"
   ]
  },
  {
   "cell_type": "code",
   "execution_count": 205,
   "metadata": {},
   "outputs": [
    {
     "data": {
      "text/plain": [
       "2×2 Array{Float64,2}:\n",
       " -0.707107  0.707107\n",
       "  0.707107  0.707107"
      ]
     },
     "execution_count": 205,
     "metadata": {},
     "output_type": "execute_result"
    }
   ],
   "source": [
    "a = eigen(U)\n",
    "U = a.vectors"
   ]
  },
  {
   "cell_type": "code",
   "execution_count": 206,
   "metadata": {},
   "outputs": [
    {
     "data": {
      "text/plain": [
       "2×2 Array{Float64,2}:\n",
       " 1.0  0.0\n",
       " 0.0  8.0"
      ]
     },
     "execution_count": 206,
     "metadata": {},
     "output_type": "execute_result"
    }
   ],
   "source": [
    "U * U'*S"
   ]
  },
  {
   "cell_type": "code",
   "execution_count": 207,
   "metadata": {},
   "outputs": [
    {
     "data": {
      "text/plain": [
       "2×2 Array{Float64,2}:\n",
       " 4.5  3.5\n",
       " 3.5  4.5"
      ]
     },
     "execution_count": 207,
     "metadata": {},
     "output_type": "execute_result"
    }
   ],
   "source": [
    "U * S * U'"
   ]
  },
  {
   "cell_type": "code",
   "execution_count": 209,
   "metadata": {},
   "outputs": [
    {
     "data": {
      "text/plain": [
       "2×2 Array{Float64,2}:\n",
       "  0.5  -0.5\n",
       " -0.5   0.5"
      ]
     },
     "execution_count": 209,
     "metadata": {},
     "output_type": "execute_result"
    }
   ],
   "source": [
    "x = 1 * U[:,1] * U[1,:]'"
   ]
  },
  {
   "cell_type": "code",
   "execution_count": 210,
   "metadata": {},
   "outputs": [
    {
     "data": {
      "text/plain": [
       "2×2 Array{Float64,2}:\n",
       " 4.0  4.0\n",
       " 4.0  4.0"
      ]
     },
     "execution_count": 210,
     "metadata": {},
     "output_type": "execute_result"
    }
   ],
   "source": [
    "y = 8 * U[:,2] * U[2,:]'"
   ]
  },
  {
   "cell_type": "code",
   "execution_count": null,
   "metadata": {},
   "outputs": [],
   "source": []
  }
 ],
 "metadata": {
  "kernelspec": {
   "display_name": "Julia 1.3.1",
   "language": "julia",
   "name": "julia-1.3"
  },
  "language_info": {
   "file_extension": ".jl",
   "mimetype": "application/julia",
   "name": "julia",
   "version": "1.3.1"
  }
 },
 "nbformat": 4,
 "nbformat_minor": 4
}
